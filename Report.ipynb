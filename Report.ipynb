{
 "cells": [
  {
   "cell_type": "markdown",
   "metadata": {},
   "source": [
    "# Collaboration and Competition\n",
    "\n",
    "---\n",
    "\n",
    "In this notebook, I provide a solution to the third project in Udacity's Deep Reinforcement Learning Nanodegree.\n",
    "\n",
    "My solution uses a single actor-critic style DDPG agent as the \"brain\" for both of the players in the game because in this game the observations for the two players are symetrical, and the players should react to the same state inputs with the same actions.\n",
    "\n",
    "Both player's experiences are stored in a single replay buffer for the DDPG agent to learn. As shown below, the agent is able to solve the environment in 1500 episodes (100_episode_average_score=0.5), and further improves the score to 1.4+ at 1812 episode.\n",
    "\n",
    "Here I show the recorded actions of the agent before and after the training. It seems the agent learned to play the game pretty well.\n",
    "\n",
    "### Before Training\n",
    "![title](img/before_training.gif)\n",
    "\n",
    "### After Training\n",
    "![title](img/after_training.gif)"
   ]
  },
  {
   "cell_type": "markdown",
   "metadata": {},
   "source": [
    "### 0. Start the environment and agent\n",
    "\n",
    "We begin by importing the necessary packages, and initiate the enviroment as well as the DDPG agent."
   ]
  },
  {
   "cell_type": "code",
   "execution_count": 1,
   "metadata": {},
   "outputs": [
    {
     "name": "stderr",
     "output_type": "stream",
     "text": [
      "INFO:unityagents:\n",
      "'Academy' started successfully!\n",
      "Unity Academy name: Academy\n",
      "        Number of Brains: 1\n",
      "        Number of External Brains : 1\n",
      "        Lesson number : 0\n",
      "        Reset Parameters :\n",
      "\t\t\n",
      "Unity brain name: TennisBrain\n",
      "        Number of Visual Observations (per agent): 0\n",
      "        Vector Observation space type: continuous\n",
      "        Vector Observation space size (per agent): 8\n",
      "        Number of stacked Vector Observation: 3\n",
      "        Vector Action space type: continuous\n",
      "        Vector Action space size (per agent): 2\n",
      "        Vector Action descriptions: , \n"
     ]
    }
   ],
   "source": [
    "import torch\n",
    "import numpy as np\n",
    "from collections import deque\n",
    "from unityagents import UnityEnvironment\n",
    "from ddpg_agent import Agent\n",
    "import matplotlib.pyplot as plt\n",
    "\n",
    "%matplotlib inline\n",
    "\n",
    "# instantiate the environment and agent\n",
    "env = UnityEnvironment(file_name='Tennis.app')\n",
    "agent = Agent(state_size=24, action_size=2, random_seed=2)\n",
    "\n",
    "# get the default brain\n",
    "brain_name = env.brain_names[0]\n",
    "brain = env.brains[brain_name]\n",
    "\n",
    "# get the number of agents in the environment\n",
    "env_info = env.reset(train_mode=True)[brain_name]\n",
    "num_agents = len(env_info.agents)"
   ]
  },
  {
   "cell_type": "markdown",
   "metadata": {},
   "source": [
    "### 1. Show the network archetecture"
   ]
  },
  {
   "cell_type": "code",
   "execution_count": 5,
   "metadata": {},
   "outputs": [
    {
     "name": "stdout",
     "output_type": "stream",
     "text": [
      "Local Actor Network:\n",
      " Actor(\n",
      "  (normalizer): BatchNorm1d(24, eps=1e-05, momentum=0.1, affine=True, track_running_stats=True)\n",
      "  (fc1): Linear(in_features=24, out_features=64, bias=True)\n",
      "  (fc2): Linear(in_features=64, out_features=64, bias=True)\n",
      "  (fc3): Linear(in_features=64, out_features=2, bias=True)\n",
      ") \n",
      "\n",
      "Target Actor Network:\n",
      " Actor(\n",
      "  (normalizer): BatchNorm1d(24, eps=1e-05, momentum=0.1, affine=True, track_running_stats=True)\n",
      "  (fc1): Linear(in_features=24, out_features=64, bias=True)\n",
      "  (fc2): Linear(in_features=64, out_features=64, bias=True)\n",
      "  (fc3): Linear(in_features=64, out_features=2, bias=True)\n",
      ") \n",
      "\n",
      "Local Critic Network:\n",
      " Critic(\n",
      "  (normalizer): BatchNorm1d(24, eps=1e-05, momentum=0.1, affine=True, track_running_stats=True)\n",
      "  (fcs1): Linear(in_features=24, out_features=64, bias=True)\n",
      "  (fc2): Linear(in_features=66, out_features=64, bias=True)\n",
      "  (fc3): Linear(in_features=64, out_features=1, bias=True)\n",
      ") \n",
      "\n",
      "Target Critic Network:\n",
      " Critic(\n",
      "  (normalizer): BatchNorm1d(24, eps=1e-05, momentum=0.1, affine=True, track_running_stats=True)\n",
      "  (fcs1): Linear(in_features=24, out_features=64, bias=True)\n",
      "  (fc2): Linear(in_features=66, out_features=64, bias=True)\n",
      "  (fc3): Linear(in_features=64, out_features=1, bias=True)\n",
      ") \n",
      "\n"
     ]
    }
   ],
   "source": [
    "print('Local Actor Network:\\n', agent.actor_local, '\\n')\n",
    "print('Target Actor Network:\\n', agent.actor_target, '\\n')\n",
    "print('Local Critic Network:\\n', agent.critic_local, '\\n')\n",
    "print('Target Critic Network:\\n', agent.critic_target, '\\n')"
   ]
  },
  {
   "cell_type": "markdown",
   "metadata": {},
   "source": [
    "### 2. Define training process details\n",
    "\n",
    "#### Hyper Parameters\n",
    "- BUFFER_SIZE = 100000 (replay buffer size)\n",
    "- BATCH_SIZE = 300 (minibatch size)\n",
    "- GAMMA = 0.99 (discount factor)\n",
    "- TAU = 1e-3 (for soft update of target parameters)\n",
    "- LR_ACTOR = 1e-4 (learning rate of the actor)\n",
    "- LR_CRITIC = 1e-3 (learning rate of the critic)"
   ]
  },
  {
   "cell_type": "code",
   "execution_count": 2,
   "metadata": {},
   "outputs": [],
   "source": [
    "def ddpg(n_episodes=2000, print_every=400):\n",
    "    \n",
    "    scores_deque = deque(maxlen=100)\n",
    "    scores = []\n",
    "    best_score = 0\n",
    "    environment_solved = False\n",
    "    environment_solved_episode = 0\n",
    "    best_performance_episode = 0\n",
    "    \n",
    "    for i_episode in range(1, n_episodes+1):\n",
    "        env_info = env.reset(train_mode=True)[brain_name]\n",
    "        states = env_info.vector_observations\n",
    "        agent.reset()\n",
    "        score = np.zeros(num_agents)\n",
    "        while True:\n",
    "            if i_episode > 1000:\n",
    "                actions = agent.act(states, noise_level=0)\n",
    "            else:\n",
    "                actions = agent.act(states, noise_level=1)\n",
    "            env_info = env.step(actions)[brain_name]\n",
    "            next_states = env_info.vector_observations\n",
    "            rewards = env_info.rewards\n",
    "            dones = env_info.local_done\n",
    "            agent.memorize(states, actions, rewards, next_states, dones)\n",
    "            states = next_states\n",
    "            score += rewards\n",
    "            agent.learn()\n",
    "            if np.any(dones):\n",
    "                break\n",
    "        episode_score = np.max(score)\n",
    "        scores_deque.append(episode_score)\n",
    "        scores.append(episode_score)\n",
    "        \n",
    "        if (not environment_solved) and np.mean(scores_deque)>0.5 :\n",
    "            environment_solved_episode = i_episode\n",
    "            environment_solved = True\n",
    "        \n",
    "        if np.mean(scores_deque) > best_score:\n",
    "            torch.save(agent.actor_local.state_dict(), 'best_actor.pth')\n",
    "            torch.save(agent.critic_local.state_dict(), 'best_critic.pth')\n",
    "            best_score = np.mean(scores_deque)\n",
    "            best_performance_episode = i_episode\n",
    "        \n",
    "        print('\\rEpisode {}\\tAverage Score: {:.2f}'.format(i_episode, np.mean(scores_deque)), end=\"\")\n",
    "        if i_episode % print_every == 0:\n",
    "            print('\\rEpisode {}\\tAverage Score: {:.2f}'.format(i_episode, np.mean(scores_deque)))\n",
    "    \n",
    "    print(\n",
    "        'Environment solved in {} episodes. Best average score of {} reached at {} episodes.'.format(\n",
    "            environment_solved_episode, best_score, best_performance_episode))\n",
    "    \n",
    "    return scores"
   ]
  },
  {
   "cell_type": "markdown",
   "metadata": {},
   "source": [
    "### 3. Start the training and plot the scores"
   ]
  },
  {
   "cell_type": "code",
   "execution_count": 3,
   "metadata": {},
   "outputs": [
    {
     "name": "stdout",
     "output_type": "stream",
     "text": [
      "Episode 400\tAverage Score: 0.01\n",
      "Episode 800\tAverage Score: 0.06\n",
      "Episode 1200\tAverage Score: 0.11\n",
      "Episode 1600\tAverage Score: 1.25\n",
      "Episode 2000\tAverage Score: 0.62\n",
      "Environment solved in 1500 episodes. Best average score of 1.4174000211805104 reached at 1812 episodes.\n"
     ]
    },
    {
     "data": {
      "image/png": "[encoded data removed]",
      "text/plain": [
       "<Figure size 432x288 with 1 Axes>"
      ]
     },
     "metadata": {
      "needs_background": "light"
     },
     "output_type": "display_data"
    }
   ],
   "source": [
    "scores = ddpg()\n",
    "\n",
    "fig = plt.figure()\n",
    "ax = fig.add_subplot(111)\n",
    "plt.plot(np.arange(1, len(scores)+1), scores)\n",
    "plt.ylabel('Score')\n",
    "plt.xlabel('Episode #')\n",
    "plt.show()"
   ]
  },
  {
   "cell_type": "markdown",
   "metadata": {},
   "source": [
    "#### 4. Future ideas\n",
    "\n",
    "During the training I found that the replay buffer size is critical to the stability of the learning. When the buffer size is set to a small value, the agent's single successful episode could fill up the buffer, and force the agent to learn from only that episode's data which led to unstatble scores. This makes me realize that what the agent learns from is extremely important for the stability of the training. So to further improve the scores, I believe the prioritization of the replay buffer experiences would do the magic."
   ]
  }
 ],
 "metadata": {
  "kernelspec": {
   "display_name": "Python 3",
   "language": "python",
   "name": "python3"
  },
  "language_info": {
   "codemirror_mode": {
    "name": "ipython",
    "version": 3
   },
   "file_extension": ".py",
   "mimetype": "text/x-python",
   "name": "python",
   "nbconvert_exporter": "python",
   "pygments_lexer": "ipython3",
   "version": "3.6.2"
  }
 },
 "nbformat": 4,
 "nbformat_minor": 2
}
